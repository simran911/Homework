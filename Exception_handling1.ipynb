{
 "cells": [
  {
   "cell_type": "markdown",
   "id": "cf80536a-4bbd-4d02-b437-b1808c83e505",
   "metadata": {},
   "source": [
    "Que=1\n",
    "\n",
    "An Exception in Python is an error that occurs during the execution of a program. It disrupts the normal flow of the program's instructions. Exceptions are used to handle runtime errors and other exceptional conditions that may arise during the execution of a program.\n",
    "\n",
    "Here are the differences between Exceptions and Syntax Errors:\n",
    "\n",
    "Exceptions:\n",
    "Exceptions occur during the execution of a program when something unexpected happens.\n",
    "They are raised when the interpreter detects an error during execution, such as division by zero, accessing a file that doesn't exist, or trying to access a variable that hasn't been defined.\n",
    "Examples of exceptions include ZeroDivisionError, FileNotFoundError, TypeError, etc.\n",
    "Exceptions can be caught and handled using try and except blocks to gracefully deal with errors.\n",
    "Syntax Errors:\n",
    "Syntax errors occur during the parsing of code (before execution) when the Python interpreter encounters incorrect syntax in the code.\n",
    "They are caused by mistakes in the code's structure, such as missing colons, unmatched parentheses, misspelled keywords, or incorrect indentation.\n",
    "Syntax errors prevent the program from being executed at all, as the interpreter cannot understand the code.\n",
    "Examples of syntax errors include forgetting to close parentheses, misspelling variable names, using invalid operators, etc."
   ]
  },
  {
   "cell_type": "markdown",
   "id": "371e8a18-6dba-4332-af85-eebfeb78b5bf",
   "metadata": {},
   "source": [
    "Que=2\n",
    "When an exception is not handled in Python, it propagates up the call stack until it either reaches a handler or the program terminates. If an exception is not handled, it typically results in the program being terminated abruptly, and an error message is displayed indicating the type of exception that occurred along with the traceback information.\n"
   ]
  },
  {
   "cell_type": "code",
   "execution_count": 1,
   "id": "764fd40a-e50f-46f8-8f1e-914d027aec98",
   "metadata": {},
   "outputs": [
    {
     "ename": "ZeroDivisionError",
     "evalue": "division by zero",
     "output_type": "error",
     "traceback": [
      "\u001b[0;31m---------------------------------------------------------------------------\u001b[0m",
      "\u001b[0;31mZeroDivisionError\u001b[0m                         Traceback (most recent call last)",
      "Cell \u001b[0;32mIn[1], line 9\u001b[0m\n\u001b[1;32m      6\u001b[0m     result \u001b[38;5;241m=\u001b[39m divide(\u001b[38;5;241m10\u001b[39m, \u001b[38;5;241m0\u001b[39m)\n\u001b[1;32m      7\u001b[0m     \u001b[38;5;28mprint\u001b[39m(\u001b[38;5;124m\"\u001b[39m\u001b[38;5;124mResult:\u001b[39m\u001b[38;5;124m\"\u001b[39m, result)\n\u001b[0;32m----> 9\u001b[0m \u001b[43mexample_function\u001b[49m\u001b[43m(\u001b[49m\u001b[43m)\u001b[49m\n",
      "Cell \u001b[0;32mIn[1], line 6\u001b[0m, in \u001b[0;36mexample_function\u001b[0;34m()\u001b[0m\n\u001b[1;32m      5\u001b[0m \u001b[38;5;28;01mdef\u001b[39;00m \u001b[38;5;21mexample_function\u001b[39m():\n\u001b[0;32m----> 6\u001b[0m     result \u001b[38;5;241m=\u001b[39m \u001b[43mdivide\u001b[49m\u001b[43m(\u001b[49m\u001b[38;5;241;43m10\u001b[39;49m\u001b[43m,\u001b[49m\u001b[43m \u001b[49m\u001b[38;5;241;43m0\u001b[39;49m\u001b[43m)\u001b[49m\n\u001b[1;32m      7\u001b[0m     \u001b[38;5;28mprint\u001b[39m(\u001b[38;5;124m\"\u001b[39m\u001b[38;5;124mResult:\u001b[39m\u001b[38;5;124m\"\u001b[39m, result)\n",
      "Cell \u001b[0;32mIn[1], line 2\u001b[0m, in \u001b[0;36mdivide\u001b[0;34m(x, y)\u001b[0m\n\u001b[1;32m      1\u001b[0m \u001b[38;5;28;01mdef\u001b[39;00m \u001b[38;5;21mdivide\u001b[39m(x, y):\n\u001b[0;32m----> 2\u001b[0m     \u001b[38;5;28;01mreturn\u001b[39;00m \u001b[43mx\u001b[49m\u001b[43m \u001b[49m\u001b[38;5;241;43m/\u001b[39;49m\u001b[43m \u001b[49m\u001b[43my\u001b[49m\n",
      "\u001b[0;31mZeroDivisionError\u001b[0m: division by zero"
     ]
    }
   ],
   "source": [
    "def divide(x, y):\n",
    "    return x / y\n",
    "\n",
    "# This function calls divide() with arguments that cause a division by zero error\n",
    "def example_function():\n",
    "    result = divide(10, 0)\n",
    "    print(\"Result:\", result)\n",
    "\n",
    "example_function()"
   ]
  },
  {
   "cell_type": "markdown",
   "id": "7b7a79a6-59c5-40bf-a31b-dcaec9a365d7",
   "metadata": {},
   "source": [
    "Que=3\n",
    "In Python, try, except, finally, and raise statements are used to catch and handle exceptions.\n",
    "\n",
    "try and except:\n",
    "The try block is used to enclose the code that might raise an exception.\n",
    "The except block is used to handle specific exceptions that occur within the try block.\n",
    "If an exception occurs inside the try block, Python searches for an except block that matches the type of the exception.\n",
    "If a matching except block is found, the code inside that block is executed, and then the program continues to run after the try-except statement.\n"
   ]
  },
  {
   "cell_type": "code",
   "execution_count": 2,
   "id": "96e775a7-1ccb-44ff-87f0-1b38708e8c2f",
   "metadata": {},
   "outputs": [
    {
     "name": "stdout",
     "output_type": "stream",
     "text": [
      "Example 1:\n",
      "Error: Division by zero\n",
      "Finally block executed\n",
      "\n",
      "Example 2:\n",
      "Division successful. Result: 5.0\n",
      "Finally block executed\n",
      "\n",
      "Example 3:\n",
      "Error: Value must be positive\n"
     ]
    }
   ],
   "source": [
    "def divide(x, y):\n",
    "    try:\n",
    "        result = x / y\n",
    "    except ZeroDivisionError:\n",
    "        print(\"Error: Division by zero\")\n",
    "    else:\n",
    "        print(\"Division successful. Result:\", result)\n",
    "    finally:\n",
    "        print(\"Finally block executed\")\n",
    "\n",
    "# Example 1: Handling division by zero error\n",
    "print(\"Example 1:\")\n",
    "divide(10, 0)\n",
    "\n",
    "# Example 2: Handling division without error\n",
    "print(\"\\nExample 2:\")\n",
    "divide(10, 2)\n",
    "\n",
    "# Example 3: Using raise to handle custom exceptions\n",
    "print(\"\\nExample 3:\")\n",
    "def check_positive(x):\n",
    "    if x < 0:\n",
    "        raise ValueError(\"Value must be positive\")\n",
    "    return x\n",
    "\n",
    "try:\n",
    "    result = check_positive(-5)\n",
    "    print(\"Result:\", result)\n",
    "except ValueError as e:\n",
    "    print(\"Error:\", e)\n"
   ]
  },
  {
   "cell_type": "code",
   "execution_count": 4,
   "id": "c0020bf5-6dc9-4ff2-9d75-de3bd902ba21",
   "metadata": {},
   "outputs": [
    {
     "name": "stdout",
     "output_type": "stream",
     "text": [
      "Transaction failed: Insufficient funds\n",
      "General transaction error occurred\n"
     ]
    }
   ],
   "source": [
    "#Question 4~\n",
    "\n",
    "class InsufficientFundsError(Exception):\n",
    "    \"\"\"Raised when an account has insufficient funds for a transaction.\"\"\"\n",
    "    pass\n",
    "\n",
    "class InvalidAccountError(Exception):\n",
    "    \"\"\"Raised when an invalid account is used for a transaction.\"\"\"\n",
    "    pass\n",
    "\n",
    "class TransactionError(Exception):\n",
    "    \"\"\"Raised for general transaction errors.\"\"\"\n",
    "    pass\n",
    "\n",
    "class Transaction:\n",
    "    def __init__(self, account, amount):\n",
    "        self.account = account\n",
    "        self.amount = amount\n",
    "\n",
    "    def execute(self):\n",
    "        try:\n",
    "            if self.amount > self.account.balance:\n",
    "                raise InsufficientFundsError(\"Insufficient funds\")\n",
    "            elif not self.account.is_active:\n",
    "                raise InvalidAccountError(\"Account is not active\")\n",
    "            else:\n",
    "                # Perform transaction\n",
    "                self.account.balance -= self.amount\n",
    "                print(\"Transaction successful\")\n",
    "        except (InsufficientFundsError, InvalidAccountError) as e:\n",
    "            print(\"Transaction failed:\", e)\n",
    "            raise TransactionError(\"Transaction failed\") from e\n",
    "\n",
    "class Account:\n",
    "    def __init__(self, balance, is_active=True):\n",
    "        self.balance = balance\n",
    "        self.is_active = is_active\n",
    "\n",
    "# Example usage\n",
    "account = Account(1000, is_active=False)\n",
    "transaction = Transaction(account, 1500)\n",
    "try:\n",
    "    transaction.execute()\n",
    "except TransactionError:\n",
    "    print(\"General transaction error occurred\")\n"
   ]
  },
  {
   "cell_type": "code",
   "execution_count": 5,
   "id": "243088b8-b138-48f4-8849-86e741c8c4a9",
   "metadata": {},
   "outputs": [
    {
     "name": "stdout",
     "output_type": "stream",
     "text": [
      "Value 5 is too small. It should be at least 10.\n"
     ]
    }
   ],
   "source": [
    "#que 5\n",
    "class ValueTooSmallError(Exception):\n",
    "    \"\"\"Raised when the input value is too small\"\"\"\n",
    "    def __init__(self, value, threshold):\n",
    "        self.value = value\n",
    "        self.threshold = threshold\n",
    "        super().__init__(f\"Value {value} is too small. It should be at least {threshold}.\")\n",
    "\n",
    "def check_value(x, threshold=10):\n",
    "    if x < threshold:\n",
    "        raise ValueTooSmallError(x, threshold)\n",
    "    else:\n",
    "        print(\"Value is acceptable\")\n",
    "\n",
    "# Example usage\n",
    "try:\n",
    "    check_value(5)\n",
    "except ValueTooSmallError as e:\n",
    "    print(e)\n"
   ]
  },
  {
   "cell_type": "code",
   "execution_count": null,
   "id": "825ec170-0640-48d1-80a9-cf0a349e8b8e",
   "metadata": {},
   "outputs": [],
   "source": []
  }
 ],
 "metadata": {
  "kernelspec": {
   "display_name": "Python 3 (ipykernel)",
   "language": "python",
   "name": "python3"
  },
  "language_info": {
   "codemirror_mode": {
    "name": "ipython",
    "version": 3
   },
   "file_extension": ".py",
   "mimetype": "text/x-python",
   "name": "python",
   "nbconvert_exporter": "python",
   "pygments_lexer": "ipython3",
   "version": "3.10.8"
  }
 },
 "nbformat": 4,
 "nbformat_minor": 5
}
